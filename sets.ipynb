{
  "nbformat": 4,
  "nbformat_minor": 0,
  "metadata": {
    "colab": {
      "name": "sets.ipynb",
      "provenance": [],
      "authorship_tag": "ABX9TyMSBMQWKAwVQSkvGw63sIKh",
      "include_colab_link": true
    },
    "kernelspec": {
      "name": "python3",
      "display_name": "Python 3"
    },
    "language_info": {
      "name": "python"
    }
  },
  "cells": [
    {
      "cell_type": "markdown",
      "metadata": {
        "id": "view-in-github",
        "colab_type": "text"
      },
      "source": [
        "<a href=\"https://colab.research.google.com/github/SSNIKHITHA/Python-Full-Stack-Development/blob/main/sets.ipynb\" target=\"_parent\"><img src=\"https://colab.research.google.com/assets/colab-badge.svg\" alt=\"Open In Colab\"/></a>"
      ]
    },
    {
      "cell_type": "code",
      "execution_count": null,
      "metadata": {
        "colab": {
          "base_uri": "https://localhost:8080/"
        },
        "id": "80H05BznGzXC",
        "outputId": "9bfe111b-e22d-4a6e-f97f-be9ea917b339"
      },
      "outputs": [
        {
          "output_type": "stream",
          "name": "stdout",
          "text": [
            "Union  = {1, 2, 3, 4, 5, 6, 7, 8}\n",
            "Intersection = {4, 5}\n",
            "Difference = {1, 2, 3}\n",
            "Symmetric Diff = {1, 2, 3, 6, 7, 8}\n"
          ]
        }
      ],
      "source": [
        "A={1,2,3,4,5}\n",
        "B={4,5,6,7,8}\n",
        "print('Union  =',A|B)\n",
        "print('Intersection =',A&B)\n",
        "print('Difference =',A-B)\n",
        "print('Symmetric Diff =',A^B)"
      ]
    },
    {
      "cell_type": "code",
      "source": [
        "studentList =['danish','jaison','sangeetha','uma','amrutha','lohitha','prasad','ashwathi']\n",
        "placedStudList=[\"uma\",\"danish\",\"amrutha\"]\n",
        "notPlacedStudList=set(studentList)-set(placedStudList)\n",
        "print(\"Students yet to get job \\n\", notPlacedStudList)"
      ],
      "metadata": {
        "colab": {
          "base_uri": "https://localhost:8080/"
        },
        "id": "3RLkEPXvJP0t",
        "outputId": "dc977cb9-dda2-4c7f-db9d-44625775794d"
      },
      "execution_count": null,
      "outputs": [
        {
          "output_type": "stream",
          "name": "stdout",
          "text": [
            "Students yet to get job \n",
            " {'lohitha', 'jaison', 'prasad', 'ashwathi', 'sangeetha'}\n"
          ]
        }
      ]
    },
    {
      "cell_type": "code",
      "source": [
        "numbers={1,2,3,4,5,6,7,8,9,10}\n",
        "odd={1,3,5,7,9}\n",
        "even={2,4,6,8,10}\n",
        "print(odd.isdisjoint(even))\n",
        "print(numbers.issuperset(odd))\n",
        "print(odd.issuperset(numbers))\n",
        "print(odd.issubset(numbers))\n"
      ],
      "metadata": {
        "colab": {
          "base_uri": "https://localhost:8080/"
        },
        "id": "ETxIt_7gUJVl",
        "outputId": "73240226-45f3-40e9-bb8b-4339f701072e"
      },
      "execution_count": null,
      "outputs": [
        {
          "output_type": "stream",
          "name": "stdout",
          "text": [
            "True\n",
            "True\n",
            "False\n",
            "True\n"
          ]
        }
      ]
    }
  ]
}