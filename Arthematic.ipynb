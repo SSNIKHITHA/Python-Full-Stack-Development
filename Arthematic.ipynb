{
  "nbformat": 4,
  "nbformat_minor": 0,
  "metadata": {
    "colab": {
      "name": "Arthematic.ipynb",
      "provenance": [],
      "authorship_tag": "ABX9TyN4b0Evrsrmz4IxFQw/Um7j",
      "include_colab_link": true
    },
    "kernelspec": {
      "name": "python3",
      "display_name": "Python 3"
    },
    "language_info": {
      "name": "python"
    }
  },
  "cells": [
    {
      "cell_type": "markdown",
      "metadata": {
        "id": "view-in-github",
        "colab_type": "text"
      },
      "source": [
        "<a href=\"https://colab.research.google.com/github/SSNIKHITHA/Python-Full-Stack-Development/blob/main/Arthematic.ipynb\" target=\"_parent\"><img src=\"https://colab.research.google.com/assets/colab-badge.svg\" alt=\"Open In Colab\"/></a>"
      ]
    },
    {
      "cell_type": "code",
      "execution_count": 1,
      "metadata": {
        "colab": {
          "base_uri": "https://localhost:8080/"
        },
        "id": "qlX0IuxzmzcF",
        "outputId": "1c4a699c-fd4f-4d5d-ff06-0355f7f313a8"
      },
      "outputs": [
        {
          "output_type": "stream",
          "name": "stdout",
          "text": [
            "23\n"
          ]
        }
      ],
      "source": [
        "a=11\n",
        "b=12\n",
        "sum=a+b\n",
        "print(sum)"
      ]
    }
  ]
}